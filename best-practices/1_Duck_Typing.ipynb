{
 "cells": [
  {
   "cell_type": "code",
   "execution_count": null,
   "metadata": {
    "collapsed": true
   },
   "outputs": [],
   "source": [
    "spam = [0, 1, 2, 3, 4]\n",
    "print spam[3]\n",
    "\n",
    "eggs = {\"zero\": 0, \"one\": 1, \"two\": 2}\n",
    "print eggs[\"one\"]"
   ]
  },
  {
   "cell_type": "code",
   "execution_count": null,
   "metadata": {
    "collapsed": true
   },
   "outputs": [],
   "source": [
    "print spam[\"one\"] # Uuuups"
   ]
  },
  {
   "cell_type": "code",
   "execution_count": null,
   "metadata": {
    "collapsed": true
   },
   "outputs": [],
   "source": [
    "def my_sum(x, y):\n",
    "    return x + y\n",
    "\n",
    "print my_sum(2, 3)\n",
    "\n",
    "print my_sum(\"spam\", \"eggs\")"
   ]
  },
  {
   "cell_type": "code",
   "execution_count": null,
   "metadata": {
    "collapsed": true
   },
   "outputs": [],
   "source": [
    "print my_sum(\"spam\", 3) # Uuuups"
   ]
  },
  {
   "cell_type": "code",
   "execution_count": null,
   "metadata": {
    "collapsed": true
   },
   "outputs": [],
   "source": [
    "# A less abstract example\n",
    "\n",
    "class Duck(object):\n",
    "    def __init__(self, name):\n",
    "        self.name = name\n",
    "\n",
    "    def quack(self):\n",
    "        print self.name, \"quack\"\n",
    "\n",
    "    def swim(self):\n",
    "        print self.name, \"swim\"\n",
    "\n",
    "\n",
    "def let_duck_swim_and_quack(d):\n",
    "    if type(d) == Duck:\n",
    "        d.swim()\n",
    "        d.quack()\n",
    "    else:\n",
    "        raise TypeError\n",
    "\n",
    "donald = Duck(\"Donald Duck\")\n",
    "\n",
    "let_duck_swim_and_quack(donald)"
   ]
  },
  {
   "cell_type": "code",
   "execution_count": null,
   "metadata": {
    "collapsed": true
   },
   "outputs": [],
   "source": [
    "class Mallard(Duck):\n",
    "    pass\n",
    "\n",
    "advice_mallard = Mallard(\"Advice Mallard\")\n",
    "\n",
    "let_duck_swim_and_quack(advice_mallard) # But... it is a duck!"
   ]
  },
  {
   "cell_type": "code",
   "execution_count": null,
   "metadata": {
    "collapsed": true
   },
   "outputs": [],
   "source": [
    "# Let's try again\n",
    "\n",
    "def let_duck_swim_and_quack(d):\n",
    "    d.swim()\n",
    "    d.quack()\n",
    "\n",
    "let_duck_swim_and_quack(advice_mallard)\n",
    "\n",
    "let_duck_swim_and_quack(donald)\n"
   ]
  },
  {
   "cell_type": "code",
   "execution_count": null,
   "metadata": {
    "collapsed": true
   },
   "outputs": [],
   "source": [
    "# And there is still more\n",
    "\n",
    "class Fish():\n",
    "    def __init__(self, name):\n",
    "        self.name = name\n",
    "\n",
    "    def swim(self):\n",
    "        print self.name, \"swim\"\n",
    "\n",
    "nemo = Fish(\"Nemo\")\n",
    "\n",
    "let_duck_swim_and_quack(nemo) # Sorry Nemo, you are not a duck"
   ]
  },
  {
   "cell_type": "markdown",
   "metadata": {},
   "source": [
    "This is duck typing, and it is everywhere although you did not notice it\n",
    "\n",
    "Duck typing:\n",
    "\n",
    "     When I see a bird that walks like a duck and swims like a duck and quacks\n",
    "     like a duck, I call that bird a duck.\n",
    "\n",
    "In other words\n",
    "\n",
    "\n",
    "Duck typing:\n",
    "\n",
    " - You have to worry and care about the methods and attributes of an used object,\n",
    "   rather than about its exact type\n",
    " - You make your code more extendable, portable, reusable, mantenible...\n",
    " - It requires testing, ofc\n",
    " - Typical approach: treat your system as black box and only check inputs and outputs\n",
    "\n",
    "\n",
    "Here we also applied another Pythonic principle\n",
    "EAFP:\n",
    "  *It is Easier to Ask for Forgiveness than Permission*\n"
   ]
  },
  {
   "cell_type": "code",
   "execution_count": null,
   "metadata": {
    "collapsed": true
   },
   "outputs": [],
   "source": [
    "# Compare\n",
    "\n",
    "def let_duck_swim_and_quack(d):\n",
    "    if hasattr(d, \"swim\") and hasattr(d, \"quack\"):\n",
    "        d.swim()\n",
    "        d.quack()\n",
    "    else:\n",
    "        print \"It does not look like a duck\"\n",
    "        raise AttributeError\n",
    "\n",
    "def let_duck_swim_and_quack(d):\n",
    "    try:\n",
    "        d.swim()\n",
    "        d.quack()\n",
    "    except AttributeError:\n",
    "        print \"It does not look like a duck\"\n",
    "        raise\n"
   ]
  },
  {
   "cell_type": "markdown",
   "metadata": {},
   "source": [
    "EAFP:\n",
    "   - In positive cases try / except is faster than if / else\n",
    "   - More understandable\n",
    "   - You don't have to know all cases to check\n"
   ]
  },
  {
   "cell_type": "code",
   "execution_count": null,
   "metadata": {
    "collapsed": true
   },
   "outputs": [],
   "source": [
    "# However... there is always THAT case\n",
    "\n",
    "def get_three_keys_value(d):\n",
    "    it = iter(d)\n",
    "    try:\n",
    "        key1 = it.next()\n",
    "        key2 = it.next()\n",
    "        key3 = it.next()\n",
    "        return d[key1], d[key2], d[key3]\n",
    "    except (StopIteration, KeyError, IndexError):\n",
    "        return None\n",
    "\n",
    "eggs = {0: \"zero\", 1: \"one\", 2: \"two\", 3: \"three\", 4: \"four\"}\n",
    "print get_three_keys_value(eggs)\n",
    "\n",
    "spam = [0, 1, 2, 3, 4]\n",
    "print get_three_keys_value(spam)  # Uuuups"
   ]
  },
  {
   "cell_type": "code",
   "execution_count": null,
   "metadata": {},
   "outputs": [],
   "source": [
    "def multi_upper(texts):\n",
    "    return map(str.upper, texts)\n",
    "\n",
    "spam = ['zero', 'one', 'two', 'three', 'four']\n",
    "print multi_upper(spam)\n",
    "\n",
    "eggs = \"eggs\"\n",
    "print multi_upper(eggs) # Uuuups"
   ]
  },
  {
   "cell_type": "code",
   "execution_count": null,
   "metadata": {
    "collapsed": true
   },
   "outputs": [],
   "source": [
    "# Sadly, in some cases you may need type checking\n",
    "\n",
    "\n",
    "def multi_upper(texts):\n",
    "    if isinstance(texts, basestring):  # basestring is the superclass of str and unicode\n",
    "        texts = [texts]\n",
    "    return map(str.upper, texts)\n",
    "\n",
    "print multi_upper(spam)\n",
    "print multi_upper(eggs)\n",
    "\n"
   ]
  },
  {
   "cell_type": "code",
   "execution_count": null,
   "metadata": {
    "collapsed": true
   },
   "outputs": [],
   "source": [
    "def get_three_keys_value(d):\n",
    "    if isinstance(d, (tuple, list)):  # You can provide several types inside a tuple\n",
    "        return None\n",
    "    it = iter(d)\n",
    "    try:\n",
    "        key1 = it.next()\n",
    "        key2 = it.next()\n",
    "        key3 = it.next()\n",
    "        return d[key1], d[key2], d[key3]\n",
    "    except (StopIteration, KeyError, IndexError):\n",
    "        return None\n",
    "\n",
    "eggs = {0: \"zero\", 1: \"one\", 2: \"two\", 3: \"three\", 4: \"four\"}\n",
    "print get_three_keys_value(eggs)\n",
    "\n",
    "spam = [0, 1, 2, 3, 4]\n",
    "print get_three_keys_value(spam)\n",
    "\n",
    "\n",
    "print isinstance(advice_mallard, Duck) # You can provide also classes instead of types"
   ]
  },
  {
   "cell_type": "markdown",
   "metadata": {},
   "source": [
    "- Use 'isinstance' to efficiently check objects type\n",
    "- Provide one or several (in a tuple) types or classes\n",
    "    - It supports subclassing!"
   ]
  }
 ],
 "metadata": {
  "kernelspec": {
   "display_name": "Python 2",
   "language": "python",
   "name": "python2"
  },
  "language_info": {
   "codemirror_mode": {
    "name": "ipython",
    "version": 2
   },
   "file_extension": ".py",
   "mimetype": "text/x-python",
   "name": "python",
   "nbconvert_exporter": "python",
   "pygments_lexer": "ipython2",
   "version": "2.7.12"
  }
 },
 "nbformat": 4,
 "nbformat_minor": 1
}
