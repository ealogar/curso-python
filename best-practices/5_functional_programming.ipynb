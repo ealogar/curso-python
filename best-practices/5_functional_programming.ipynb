{
 "cells": [
  {
   "cell_type": "markdown",
   "metadata": {
    "collapsed": true
   },
   "source": [
    "Let's start with filter"
   ]
  },
  {
   "cell_type": "code",
   "execution_count": null,
   "metadata": {},
   "outputs": [],
   "source": [
    "spam_eggs = \"sPaM EggS\"\n",
    "print str.isupper\n",
    "print filter(str.isupper, spam_eggs) # filter returns elements evaluated as True by first argument"
   ]
  },
  {
   "cell_type": "code",
   "execution_count": null,
   "metadata": {},
   "outputs": [],
   "source": [
    "def my_filtering_func(input):\n",
    "    return input % 2 == 0\n",
    "\n",
    "spam = [0, 1, 2, 3, 4, 5, 6, 7, 8, 9]\n",
    "print filter(my_filtering_func, spam) # You can provide your own functions"
   ]
  },
  {
   "cell_type": "code",
   "execution_count": null,
   "metadata": {},
   "outputs": [],
   "source": [
    "# It's time to use lambda\n",
    "\n",
    "\n",
    "spam = [1, 2, 3, 4, 5, 6, 7, 8, 9]\n",
    "print filter(lambda x: x % 2 == 0, spam) # lambda keyword is used to create one-liner simple anonymous functions"
   ]
  },
  {
   "cell_type": "code",
   "execution_count": null,
   "metadata": {},
   "outputs": [],
   "source": [
    "def get_power(y):\n",
    "    return lambda x: x ** y\n",
    "\n",
    "cube = get_power(3)\n",
    "print cube(2)\n",
    "print cube(3)"
   ]
  },
  {
   "cell_type": "code",
   "execution_count": null,
   "metadata": {},
   "outputs": [],
   "source": [
    "spam = [1, 2, 3, 4, 5, 6, 7, 8, 9]\n",
    "print map(lambda x: x ** 2, spam) # map applies the first argument function to all elements of iterable"
   ]
  },
  {
   "cell_type": "code",
   "execution_count": null,
   "metadata": {},
   "outputs": [],
   "source": [
    "spam_eggs = \"sPaM EggS\"\n",
    "print map(str.upper, spam_eggs) # map always returns a list"
   ]
  },
  {
   "cell_type": "code",
   "execution_count": null,
   "metadata": {},
   "outputs": [],
   "source": [
    "eggs = (1, 2, 3, None, 5, 6, None, 8)\n",
    "print map(None, eggs)"
   ]
  },
  {
   "cell_type": "code",
   "execution_count": null,
   "metadata": {},
   "outputs": [],
   "source": [
    "print map(lambda x, y: x * y, spam_eggs, spam) # map can accept several iterables"
   ]
  },
  {
   "cell_type": "code",
   "execution_count": null,
   "metadata": {},
   "outputs": [],
   "source": [
    "print map(lambda x, y: (y, x), \"spam\", spam) # map adds None in case one iterable has less elements"
   ]
  },
  {
   "cell_type": "code",
   "execution_count": null,
   "metadata": {},
   "outputs": [],
   "source": [
    "\n",
    "# Let's check reduce\n",
    "\n",
    "spam = [1, 2, 3]\n",
    "print reduce(lambda x, y: x + y, spam) # reduce applies consecutively the function to each element of iterable"
   ]
  },
  {
   "cell_type": "code",
   "execution_count": null,
   "metadata": {},
   "outputs": [],
   "source": [
    "spam = [1, 2, 3, 4, 5, 6, 7, 8, 9]\n",
    "print reduce(lambda x, y: x + y, spam) # reduce accumulates the result of each iteration"
   ]
  },
  {
   "cell_type": "code",
   "execution_count": null,
   "metadata": {},
   "outputs": [],
   "source": [
    "spam = [1, 2, 3, 4, 5, 6, 7, 8, 9]\n",
    "print reduce(lambda x, y: x + y, spam, 1000) # Optionally reduce accepts an initializer as initial accumulated value"
   ]
  },
  {
   "cell_type": "code",
   "execution_count": null,
   "metadata": {},
   "outputs": [],
   "source": [
    "# Let's continue with any and all\n",
    "\n",
    "spam = [1, 2, 3, 4, 5]\n",
    "print any(spam)\n",
    "\n",
    "spam = [0, 1, 2, 3, 4, 5]\n",
    "print any(spam)\n",
    "\n",
    "spam = [None, 1, 2, 3, 4, 5]\n",
    "print any(spam)\n",
    "\n",
    "spam = []\n",
    "print any(spam)"
   ]
  },
  {
   "cell_type": "code",
   "execution_count": null,
   "metadata": {},
   "outputs": [],
   "source": [
    "spam = [1, 2, 3, 4, 5]\n",
    "print all(spam)\n",
    "\n",
    "spam = [0, 1, 2, 3, 4, 5]\n",
    "print all(spam)\n",
    "\n",
    "spam = [None, 1, 2, 3, 4, 5]\n",
    "print all(spam)\n",
    "\n",
    "spam = []\n",
    "print all(spam)"
   ]
  },
  {
   "cell_type": "code",
   "execution_count": null,
   "metadata": {},
   "outputs": [],
   "source": [
    "# enumerate\n",
    "\n",
    "spam = \"spam\"\n",
    "print list(enumerate(spam)) # Return an iterator of pairs (number, element) for elements in the iterable"
   ]
  },
  {
   "cell_type": "code",
   "execution_count": null,
   "metadata": {},
   "outputs": [],
   "source": [
    "num = 0\n",
    "spam = \"spam\"\n",
    "for num, item in enumerate(spam, 1):     # Useful in for loops\n",
    "    print item, \"at index\", num - 1\n",
    "\n",
    "print \"Number of items processed:\", num"
   ]
  },
  {
   "cell_type": "code",
   "execution_count": null,
   "metadata": {},
   "outputs": [],
   "source": [
    "# zip\n",
    "\n",
    "spam = ['monday', 'tuesday',\n",
    "        'wednesday', 'thursday',\n",
    "        'friday']\n",
    "eggs = [1, 2, 3, 4, 5]\n",
    "fooo = (\"MO\", \"TU\", \"WD\",\n",
    "        \"TH\", \"FR\")\n",
    "print zip(spam, eggs, fooo) # Return a list of tuples taking one element of each iterable at the same time"
   ]
  },
  {
   "cell_type": "code",
   "execution_count": null,
   "metadata": {},
   "outputs": [],
   "source": [
    "spam = ['monday', 'tuesday',\n",
    "        'wednesday', 'thursday',\n",
    "        'friday']\n",
    "eggs = [0, 1, 2, 3, 4,\n",
    "        5, 6, 7, 8, 9]\n",
    "fooo = (\"MO\", \"TU\", \"WD\")\n",
    "print zip(spam, eggs, fooo) # The resulting list is as long as the shortest input iterable"
   ]
  },
  {
   "cell_type": "code",
   "execution_count": null,
   "metadata": {},
   "outputs": [],
   "source": [
    "# sum\n",
    "\n",
    "spam = [1, 2, 3, 4, 5]\n",
    "print sum(spam)         # No explanation needed\n",
    "\n",
    "print sum(spam, 100) # Optional second argument with initial sum value"
   ]
  },
  {
   "cell_type": "code",
   "execution_count": null,
   "metadata": {},
   "outputs": [],
   "source": [
    "# range\n",
    "\n",
    "print range(10)          # Returns a list of numbers lower than provided value\n",
    "\n",
    "print range(1, 10)       # By default first number is 0, but you may specify it\n",
    "\n",
    "print range(0, 10, 2)    # You may also specify the step to increase\n",
    "\n",
    "print range(0, -10, -2) # You may also specify negative values"
   ]
  },
  {
   "cell_type": "code",
   "execution_count": null,
   "metadata": {},
   "outputs": [],
   "source": [
    "print xrange(0, 10, 2)\n",
    "print list(xrange(0, 10, 2)) # It is a generator, no resources waste, no list created"
   ]
  },
  {
   "cell_type": "code",
   "execution_count": null,
   "metadata": {},
   "outputs": [],
   "source": [
    "# sorted\n",
    "\n",
    "spam = [2, 3, 1, 5, 4]\n",
    "print sorted(spam) # Returns a new list with iterable content sorted"
   ]
  },
  {
   "cell_type": "code",
   "execution_count": null,
   "metadata": {},
   "outputs": [],
   "source": [
    "spam = [2, 3, 1, 5, 4]\n",
    "print sorted(spam, reverse=True) # Set reverse=True to get decremental sorting"
   ]
  },
  {
   "cell_type": "code",
   "execution_count": null,
   "metadata": {},
   "outputs": [],
   "source": [
    "spam = ['monday', 'tuesday',\n",
    "        'wednesday', 'thursday',\n",
    "        'friday']\n",
    "print sorted(spam, key=lambda x: len(x)) # You may provide a function to return a weight or comparison key"
   ]
  },
  {
   "cell_type": "code",
   "execution_count": null,
   "metadata": {},
   "outputs": [],
   "source": [
    "spam = ['monday', 'tuesday',\n",
    "        'wednesday', 'thursday',\n",
    "        'friday']\n",
    "print sorted(spam, cmp=lambda x, y: len(x) - len(y)) # Alternatively you may provide a function to compare pairs of elements"
   ]
  },
  {
   "cell_type": "code",
   "execution_count": null,
   "metadata": {},
   "outputs": [],
   "source": [
    "# reversed\n",
    "\n",
    "spam = [2, 3, 1, 5, 4]\n",
    "print reversed(spam)    # Returns an iterator. Only works with sequences, collections which have index access\n",
    "print list(reversed(spam))"
   ]
  },
  {
   "cell_type": "code",
   "execution_count": null,
   "metadata": {},
   "outputs": [],
   "source": [
    "sentences = ['Mary read a story to Sam and Isla.',\n",
    "             'Isla cuddled Sam.',\n",
    "             'Sam chortled.']\n",
    "\n",
    "sam_count = 0\n",
    "for sentence in sentences:\n",
    "    sam_count += sentence.count('Sam')\n",
    "\n",
    "print sam_count"
   ]
  },
  {
   "cell_type": "code",
   "execution_count": null,
   "metadata": {},
   "outputs": [],
   "source": [
    "sentences = ['Mary read a story to Sam and Isla.',\n",
    "             'Isla cuddled Sam.',\n",
    "             'Sam chortled.']\n",
    "\n",
    "sam_count = reduce(lambda a, x: a + x.count('Sam'),\n",
    "                   sentences,\n",
    "                   0)\n",
    "\n"
   ]
  },
  {
   "cell_type": "code",
   "execution_count": null,
   "metadata": {},
   "outputs": [],
   "source": [
    "# Imperative style: actions that change state from initial state to result\n",
    "expr, res = \"28+32+++32++39\", 0\n",
    "for t in expr.split(\"+\"):\n",
    "    if t != \"\":\n",
    "        res += int(t)\n",
    "\n",
    "print res"
   ]
  },
  {
   "cell_type": "code",
   "execution_count": null,
   "metadata": {},
   "outputs": [],
   "source": [
    "# Functional style = apply transformation (and compositions)\n",
    "from operator import add\n",
    "expr = \"28+32+++32++39\"\n",
    "print reduce(add, map(int, filter(bool, expr.split(\"+\"))))"
   ]
  },
  {
   "cell_type": "markdown",
   "metadata": {},
   "source": [
    "- Readability VS. conciseness\n",
    "- Code reusage (\"pluggability\")\n"
   ]
  }
 ],
 "metadata": {
  "kernelspec": {
   "display_name": "Python 2",
   "language": "python",
   "name": "python2"
  },
  "language_info": {
   "codemirror_mode": {
    "name": "ipython",
    "version": 2
   },
   "file_extension": ".py",
   "mimetype": "text/x-python",
   "name": "python",
   "nbconvert_exporter": "python",
   "pygments_lexer": "ipython2",
   "version": "2.7.6"
  }
 },
 "nbformat": 4,
 "nbformat_minor": 0
}
