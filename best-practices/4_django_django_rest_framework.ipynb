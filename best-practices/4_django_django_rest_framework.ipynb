{
 "cells": [
  {
   "cell_type": "markdown",
   "metadata": {
    "collapsed": true
   },
   "source": [
    "Django was invented to meet fast-moving newsroom deadlines, while satisfying the tough requirements of experienced Web developers.\n",
    "\n",
    "- Fast development\n",
    "- Fully loaded\n",
    "- Reassuringly secure\n",
    "- Scalable\n",
    "\n",
    "https://www.djangoproject.com/start/"
   ]
  },
  {
   "cell_type": "markdown",
   "metadata": {},
   "source": [
    "Django REST framework is a powerful and flexible toolkit for building Web APIs.\n",
    "\n",
    "- Web browsable API is a huge usability win for your developers.\n",
    "- Authentication policies including packages for OAuth1a and OAuth2.\n",
    "- Serialization that supports both ORM and non-ORM data sources.\n",
    "- Customizable.\n",
    "- Extensive documentation, and great community support.\n",
    "\n",
    "http://www.django-rest-framework.org/"
   ]
  },
  {
   "cell_type": "heading",
   "metadata": {},
   "level": 1,
   "source": [
    "http://wsgi.readthedocs.io/en/latest/frameworks.html"
   ]
  }
 ],
 "metadata": {
  "kernelspec": {
   "display_name": "Python 2",
   "language": "python",
   "name": "python2"
  },
  "language_info": {
   "codemirror_mode": {
    "name": "ipython",
    "version": 2
   },
   "file_extension": ".py",
   "mimetype": "text/x-python",
   "name": "python",
   "nbconvert_exporter": "python",
   "pygments_lexer": "ipython2",
   "version": "2.7.6"
  }
 },
 "nbformat": 4,
 "nbformat_minor": 0
}
