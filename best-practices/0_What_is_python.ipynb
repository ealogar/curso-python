{
 "cells": [
  {
   "cell_type": "markdown",
   "metadata": {},
   "source": [
    "# Run the following:"
   ]
  },
  {
   "cell_type": "code",
   "execution_count": null,
   "metadata": {
    "collapsed": false
   },
   "outputs": [],
   "source": [
    "#Inside a python console\n",
    "import this"
   ]
  },
  {
   "cell_type": "markdown",
   "metadata": {},
   "source": [
    "## From official website ( http://www.python.org/ ):\n",
    "\n",
    "Python is a programming language that lets you work more quickly and integrate\n",
    "your systems more effectively. You can learn to use Python and see almost\n",
    "immediate gains in productivity and lower maintenance costs.\n",
    "\n",
    "## Executive summary from official website ( http://www.python.org/doc/essays/blurb.html )\n",
    " \n",
    " Python is an interpreted, object-oriented, high-level programming language\n",
    " with dynamic semantics. Its high-level built in data structures, combined\n",
    " with dynamic typing and dynamic binding, make it very attractive for Rapid\n",
    " Application Development, as well as for use as a scripting or glue language\n",
    " to connect existing components together. Python's simple, easy to learn syntax\n",
    " emphasizes readability and therefore reduces the cost of program maintenance.\n",
    " Python supports modules and packages, which encourages program modularity and\n",
    " code reuse. The Python interpreter and the extensive standard library are\n",
    " available in source or binary form without charge for all major platforms,\n",
    " and can be freely distributed.\n"
   ]
  },
  {
   "cell_type": "markdown",
   "metadata": {},
   "source": [
    "### TO SUM UP\n",
    "  - quick development\n",
    "  - simple, readable, easy to learn syntax\n",
    "  - general purpose\n",
    "  - interpreted (not compiled)\n",
    "  - object-oriented\n",
    "  - high-level\n",
    "  - dynamic semantics (aka execution semantics)\n",
    "  - fully dynamic typing\n",
    "  - dynamic binding\n",
    "  - low programs manteinance cost\n",
    "  - modularity and code reuse\n",
    "  - no licensing costs\n",
    "  - extensive standard library, \"batteries included\"\n",
    "  - imperative and functional programming\n",
    "  - automatic memory management"
   ]
  },
  {
   "cell_type": "code",
   "execution_count": null,
   "metadata": {
    "collapsed": false
   },
   "outputs": [],
   "source": [
    "# execution semantics\n",
    "for i in range(10):\n",
    "    print i**2\n",
    "print \"Outside for loop\""
   ]
  },
  {
   "cell_type": "code",
   "execution_count": null,
   "metadata": {
    "collapsed": false
   },
   "outputs": [],
   "source": [
    "# dynamic binding\n",
    "my_str = \"hola\"\n",
    "type(my_str)"
   ]
  },
  {
   "cell_type": "code",
   "execution_count": null,
   "metadata": {
    "collapsed": false
   },
   "outputs": [],
   "source": [
    "# dynamic binding\n",
    "my_str = 90\n",
    "type(my_str)"
   ]
  },
  {
   "cell_type": "code",
   "execution_count": null,
   "metadata": {
    "collapsed": false
   },
   "outputs": [],
   "source": [
    "# fully dynamic typing\n",
    "4 +5 +6"
   ]
  },
  {
   "cell_type": "code",
   "execution_count": null,
   "metadata": {
    "collapsed": false
   },
   "outputs": [],
   "source": [
    "# fully dynamic typing\n",
    "4 + \"hola\""
   ]
  },
  {
   "cell_type": "markdown",
   "metadata": {},
   "source": [
    "## HISTORY\n",
    "  - http://docs.python.org/2/license.html\n",
    "  - http://en.wikipedia.org/wiki/History_of_Python\n",
    "  - http://en.wikipedia.org/wiki/Benevolent_Dictator_For_Life\n",
    "  - http://www.python.org/dev/peps/pep-0001/\n",
    "  - http://docs.python.org/3.0/whatsnew/3.0.html"
   ]
  },
  {
   "cell_type": "code",
   "execution_count": null,
   "metadata": {},
   "outputs": [],
   "source": [
    "## TOOLS\n",
    "\n",
    "**CPython** is the real name of default standard Python implementation\n",
    "  - The interpreter is deployed together with standard library\n",
    "  - It can take a file as argument to run. Otherwise it opens and interactive console\n",
    "  - With '-m' parameter you can execute directly certain modules (debugging, profiling)\n",
    "  - Implemented in C\n",
    " \n",
    "There are Python implementations in other languages:\n",
    "  - Jython: Python 2.5 interpreter written in Java which runs bytecode in the JVM\n",
    "  - IronPython: Similar approach for .NET Common Language Runtime\n",
    "  - JS, C++, CIL...\n",
    "  - Stackless Python: CPython fork with microthreads concurrency\n",
    "  - PyPy: Python 2.7 interpreter implemented in Python. Really fast, multi-core...!!!\n",
    "\n",
    "\n",
    "**IPython**: create a comprehensive environment for interactive and exploratory computing  \n",
    "An enhanced interactive Python shell  \n",
    "An architecture for interactive parallel computing:\n",
    "  - Other powerful interactive shells (terminal and Qt-based)\n",
    "  - A browser-based notebook with support for code, text, mathematical expressions\n",
    "    inline plots and other rich media\n",
    "  - Support for interactive data visualization and use of GUI toolkits\n",
    "  - Flexible, embeddable interpreters to load into your own projects\n",
    "  - Easy to use, high performance tools for parallel computing\n",
    "  - Recently funded with $1.15M from the Alfred P. Sloan Foundation\n",
    "\n",
    "\n",
    "**virtualenv**: a tool to create isolated Python environments  \n",
    "It simply changes your PATH environment var to point to a different folder\n",
    "\n",
    "\n",
    "**PyPi**: The Python Package Index is a repository of software for the Python programming language.  \n",
    "There are currently 89324 packages here.  \n",
    "The packages are 'eggs'.\n",
    "\n",
    "**pip**: A tool for installing and managing Python packages\n",
    "It installs packages from PyPi, local folders or Git and other repositories\n",
    "It can read a list of packages from a file or generate the list of installed packages"
   ]
  },
  {
   "cell_type": "markdown",
   "metadata": {},
   "source": [
    "### Installing pip and virtualenv for a python interpreter\n",
    "\n",
    "```sh\n",
    "wget https://bootstrap.pypa.io/get-pip.py\n",
    "python get-pip.py\n",
    "pip install virtualenv\n",
    "virtualenv env\n",
    "source env/bin/activate\n",
    "# finish virtualenv running deactivate\n",
    "```\n"
   ]
  },
  {
   "cell_type": "markdown",
   "metadata": {},
   "source": [
    "**IDE**?\n",
    " - IntelliJ IDEA\n",
    " - PyCharm\n",
    " - Eclipse + Pydev\n",
    " - NetBeans\n",
    " - Eric\n",
    " - NINJA IDE\n",
    " - Aptana Studio 3\n",
    " - SPE\n",
    " - Python's IDLE (not recommendable at all)\n",
    " - ...\n",
    " - Emacs\n",
    " - Vi\n",
    "http://wiki.python.org/moin/IntegratedDevelopmentEnvironments  \n",
    "Lots of good IDEs, it's up to you!"
   ]
  }
 ],
 "metadata": {
  "kernelspec": {
   "display_name": "Python 2",
   "language": "python",
   "name": "python2"
  },
  "language_info": {
   "codemirror_mode": {
    "name": "ipython",
    "version": 2
   },
   "file_extension": ".py",
   "mimetype": "text/x-python",
   "name": "python",
   "nbconvert_exporter": "python",
   "pygments_lexer": "ipython2",
   "version": "2.7.12"
  }
 },
 "nbformat": 4,
 "nbformat_minor": 1
}
