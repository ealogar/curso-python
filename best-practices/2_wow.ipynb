{
 "cells": [
  {
   "cell_type": "markdown",
   "metadata": {
    "collapsed": true
   },
   "source": [
    "Install pip\n",
    "\n",
    "- pip is used to list, search, install, upgrade and uninstall packages from\n",
    "      PyPi, GitHub, or other VCSs\n",
    "- easy_install is a simple installer from PyPi. It comes with setuptools \n",
    "\n",
    "- setuptools has recently merged distribute, which was a fork of setuptools. \n",
    "       this versions is Py3k compatible.\n",
    "\n",
    "Both are a library to build, package and install Python projects.\n"
   ]
  },
  {
   "cell_type": "markdown",
   "metadata": {},
   "source": [
    "Install virtualenv\n",
    "- virtualenv is used to isolate environments\n",
    "  different projects, POCs and spikes, different Python versions\n",
    "- When Python interpreter starts it loads os and site-packages using relative paths\n",
    "  regarding the binary location\n",
    "- For virtualenv it is enough to copy all this relative paths together with the binary\n",
    " - It comes with pip installed\n",
    "     - Install it with pip\n",
    "\n",
    "```sh\n",
    "sudo pip install virtualenv\n",
    "```"
   ]
  },
  {
   "cell_type": "markdown",
   "metadata": {},
   "source": [
    "Use virtualenv\n",
    "- Create a new environment:\n",
    "```sh\n",
    "virtualenv venvs/pycourse\n",
    "```\n",
    "\n",
    "Create a new environment with different Python version:\n",
    "\n",
    "```sh\n",
    "which python3.3\n",
    "/usr/local/bin/python3.3\n",
    "virtualenv venvs/pycourse3.3 -p /usr/local/bin/python3.3\n",
    "```\n",
    "\n",
    "Enable the virtualenv\n",
    "```sh\n",
    "echo $PATH\n",
    "/usr/bin:/bin:/usr/sbin:/sbin:/usr/local/bin:...\n",
    "source venvs/pycourse/bin/activate\n",
    "echo $PATH\n",
    "/Users/pev/venvs/pycourse/bin:/usr/bin:/bin:/usr/sbin:/sbin:/usr/local/bin:...\n",
    "```\n",
    "\n",
    "Disable the virtualenv:\n",
    "```sh\n",
    "deactivate\n",
    "```"
   ]
  },
  {
   "cell_type": "markdown",
   "metadata": {},
   "source": [
    "Use pip (inside virtualenvs)\n",
    "- List installed packages:\n",
    "\n",
    "```sh\n",
    "pip freeze\n",
    " wsgiref==0.1.2\n",
    "```\n",
    "\n",
    "- Install new packages:\n",
    "\n",
    "```sh\n",
    "pip search pep8\n",
    " wsgiref==0.1.2\n",
    " autopep8                  - A tool that automatically formats Python code...\n",
    " pep8                      - Python style guide checker\n",
    "\n",
    "pip install pep8\n",
    "Downloading/unpacking pep8\n",
    " Downloading pep8-1.4.5.tar.gz (63kB): 63kB downloaded\n",
    " Running setup.py egg_info for package pep8\n",
    " ...\n",
    " Successfully installed pep8\n",
    " Cleaning up...\n",
    "\n",
    "pip freeze\n",
    " wsgiref==0.1.2\n",
    " pep8==1.4.4\n",
    "```\n",
    "\n",
    "- Install your project's requirements:\n",
    "```sh\n",
    "pip install -r requirements.txt\n",
    "```\n",
    "\n",
    "- Create your project's requirements file:\n",
    "```sh\n",
    "pip freeze > requirements.txt\n",
    "```"
   ]
  },
  {
   "cell_type": "markdown",
   "metadata": {},
   "source": [
    "Use PEP8\n",
    "- PEP8 is the style guide for Python code\n",
    "- Most IDEs integrate it\n",
    "- Normally we accept 120 charactes per line (instead of 80)\n",
    "\n",
    "- You can run and check code style from console\n",
    "```sh\n",
    "pep8 --max-line-length=119 .\n",
    " ./file1.py:7:1: E302 expected 2 blank lines, found 1\n",
    " ./file1.py:9:5: E301 expected 1 blank line, found 0\n",
    " ./file2.py:11:5: E301 expected 1 blank line, found 0\n",
    " ./file2.py:13:1: W293 blank line contains whitespace\n",
    "```"
   ]
  },
  {
   "cell_type": "code",
   "execution_count": null,
   "metadata": {},
   "outputs": [],
   "source": [
    "def func(arg1, arg2=None):\n",
    "    '''This is the docstring of the function, explaining what it does\n",
    "    its arguments, its exceptions raised and its return value\n",
    "    It may be multiline or just a single line\n",
    "    '''\n",
    "    pass\n",
    "\n",
    "\n",
    "class MyClass(object):\n",
    "    '''This is the docstring of the class, explaining what it does\n",
    "    '''\n",
    "    def method(self, arg1, arg2=None):\n",
    "        '''This is the docstring of the method, explaining what it does\n",
    "        '''\n",
    "        pass\n"
   ]
  },
  {
   "cell_type": "code",
   "execution_count": null,
   "metadata": {},
   "outputs": [],
   "source": [
    "print func.__doc__\n",
    "print\n",
    "print MyClass.__doc__\n",
    "print\n",
    "print MyClass.method.__doc__ # Even you can access docstring"
   ]
  },
  {
   "cell_type": "markdown",
   "metadata": {},
   "source": [
    "Use docstrings\n",
    "- PEP8 defines this code documentation 'protocol'\n",
    "- It consists on a string block below modules, classes and functions declaration\n",
    "- It is possible to insert reStructuredText or EpiDoc markup\n",
    "- There are tools to extract, display, format and convert it:\n",
    "\t- Sphinx, pydoc (released with the interpreter)\n",
    "\n",
    "http://www.python.org/dev/peps/pep-0008/"
   ]
  }
 ],
 "metadata": {
  "kernelspec": {
   "display_name": "Python 2",
   "language": "python",
   "name": "python2"
  },
  "language_info": {
   "codemirror_mode": {
    "name": "ipython",
    "version": 2
   },
   "file_extension": ".py",
   "mimetype": "text/x-python",
   "name": "python",
   "nbconvert_exporter": "python",
   "pygments_lexer": "ipython2",
   "version": "2.7.6"
  }
 },
 "nbformat": 4,
 "nbformat_minor": 0
}
