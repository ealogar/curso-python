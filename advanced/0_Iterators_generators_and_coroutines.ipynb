{
 "cells": [
  {
   "cell_type": "markdown",
   "metadata": {
    "collapsed": true
   },
   "source": [
    "## - Iterators are easy to understand"
   ]
  },
  {
   "cell_type": "code",
   "execution_count": null,
   "metadata": {
    "collapsed": false
   },
   "outputs": [],
   "source": [
    "spam = [0, 1, 2, 3, 4]\n",
    "\n",
    "for item in spam:\n",
    "    print item\n",
    "else:\n",
    "    print \"Looped whole list\""
   ]
  },
  {
   "cell_type": "code",
   "execution_count": null,
   "metadata": {
    "collapsed": false
   },
   "outputs": [],
   "source": [
    "# What is really happening here?\n",
    "\n",
    "\n",
    "it = iter(spam)                            # Obtain an iterator\n",
    "try:\n",
    "    item = it.next()                      # Retrieve first item through the iterator\n",
    "    while True:\n",
    "        # Body of the for loop goes here\n",
    "        print item\n",
    "        item = it.next()                  # Retrieve next item through the iterator\n",
    "except StopIteration:                     # Capture iterator exception\n",
    "    # Body of the else clause goes here\n",
    "    print \"Looped whole list\""
   ]
  },
  {
   "cell_type": "code",
   "execution_count": null,
   "metadata": {
    "collapsed": true
   },
   "outputs": [],
   "source": [
    "# Another example\n",
    "\n",
    "spam = \"spam\"\n",
    "it = iter(spam)"
   ]
  },
  {
   "cell_type": "code",
   "execution_count": null,
   "metadata": {
    "collapsed": false
   },
   "outputs": [],
   "source": [
    "print it.next()\n",
    "print it.next()\n",
    "print it.next()\n",
    "print it.next()"
   ]
  },
  {
   "cell_type": "code",
   "execution_count": null,
   "metadata": {
    "collapsed": false
   },
   "outputs": [],
   "source": [
    "# Once the StopIteration is raised an iterator is useless, there is no 'restart'\n",
    "print it.next()"
   ]
  },
  {
   "cell_type": "markdown",
   "metadata": {},
   "source": [
    "## Python Generators"
   ]
  },
  {
   "cell_type": "code",
   "execution_count": null,
   "metadata": {
    "collapsed": false
   },
   "outputs": [],
   "source": [
    "# expression generator\n",
    "\n",
    "spam = [0, 1, 2, 3, 4]\n",
    "fooo = (2 ** s for s in spam)  # Syntax similar to list comprehension but between parentheses\n",
    "print fooo"
   ]
  },
  {
   "cell_type": "code",
   "execution_count": null,
   "metadata": {
    "collapsed": false
   },
   "outputs": [],
   "source": [
    "print fooo.next()\n",
    "print fooo.next()\n",
    "print fooo.next()\n",
    "print fooo.next()\n",
    "print fooo.next()"
   ]
  },
  {
   "cell_type": "code",
   "execution_count": null,
   "metadata": {
    "collapsed": false
   },
   "outputs": [],
   "source": [
    "# Generator is exhausted\n",
    "print fooo.next()"
   ]
  },
  {
   "cell_type": "markdown",
   "metadata": {},
   "source": [
    " - Generators are a simple and powerful tool for creating iterators.\n",
    " - Each iteration is computed on demand\n",
    " - In general terms they are more efficient than list comprehension or loops\n",
    "    - If not the whole sequence is traversed\n",
    "        - When looking for a certain element\n",
    "        - When an exception is raised\n",
    "    - So they save computing power and memory\n",
    " - Used to operate with I/O, with big amounts of data (e.g. DB queries)..."
   ]
  },
  {
   "cell_type": "markdown",
   "metadata": {},
   "source": [
    "## yield"
   ]
  },
  {
   "cell_type": "code",
   "execution_count": null,
   "metadata": {
    "collapsed": true
   },
   "outputs": [],
   "source": [
    "def countdown(n):\n",
    "    while n > 0:\n",
    "        yield n\n",
    "        n -= 1"
   ]
  },
  {
   "cell_type": "code",
   "execution_count": null,
   "metadata": {
    "collapsed": false
   },
   "outputs": [],
   "source": [
    "gen_5 = countdown(5)\n",
    "gen_5"
   ]
  },
  {
   "cell_type": "code",
   "execution_count": null,
   "metadata": {
    "collapsed": false
   },
   "outputs": [],
   "source": [
    "# where is the sequence?\n",
    "print gen_5.next()\n",
    "print gen_5.next()\n",
    "print gen_5.next()\n",
    "print gen_5.next()\n",
    "print gen_5.next()"
   ]
  },
  {
   "cell_type": "code",
   "execution_count": null,
   "metadata": {
    "collapsed": false
   },
   "outputs": [],
   "source": [
    "gen_5.next()"
   ]
  },
  {
   "cell_type": "code",
   "execution_count": null,
   "metadata": {
    "collapsed": false
   },
   "outputs": [],
   "source": [
    "for i in countdown(5):\n",
    "    print i,"
   ]
  },
  {
   "cell_type": "markdown",
   "metadata": {},
   "source": [
    "- yield makes a function a generator\n",
    "- the function only executes on next (easier than implements iteration)\n",
    "- it produces a value and suspend the execution of the function"
   ]
  },
  {
   "cell_type": "code",
   "execution_count": null,
   "metadata": {
    "collapsed": true
   },
   "outputs": [],
   "source": [
    "# Let's see another example with yield tail -f and grep\n",
    "import time\n",
    "\n",
    "\n",
    "def follow(thefile):\n",
    "    thefile.seek(0, 2)  # Go to the end of the file\n",
    "    while True:\n",
    "        line = thefile.readline()\n",
    "        if not line:\n",
    "            time.sleep(0.1)    # Sleep briefly\n",
    "            continue\n",
    "        yield line"
   ]
  },
  {
   "cell_type": "code",
   "execution_count": null,
   "metadata": {
    "collapsed": false
   },
   "outputs": [],
   "source": [
    "logfile = open(\"fichero.txt\")\n",
    "for line in follow(logfile):\n",
    "    print line,"
   ]
  },
  {
   "cell_type": "code",
   "execution_count": null,
   "metadata": {
    "collapsed": true
   },
   "outputs": [],
   "source": [
    "# Ensure f is closed\n",
    "if logfile and not logfile.closed:\n",
    "    logfile.close()"
   ]
  },
  {
   "cell_type": "markdown",
   "metadata": {},
   "source": [
    "### using generators to build a pipeline as unix (tail + grep)"
   ]
  },
  {
   "cell_type": "code",
   "execution_count": null,
   "metadata": {
    "collapsed": false
   },
   "outputs": [],
   "source": [
    "def grep(pattern, lines):\n",
    "    for line in lines:\n",
    "        if pattern in line:\n",
    "            yield line\n",
    "\n",
    "# TODO: use a generator expression"
   ]
  },
  {
   "cell_type": "code",
   "execution_count": null,
   "metadata": {
    "collapsed": true
   },
   "outputs": [],
   "source": [
    "# Set up a processing pipe : tail -f | grep \"tefcon\"\n",
    "logfile = open(\"fichero.txt\")\n",
    "loglines = follow(logfile)\n",
    "pylines = grep(\"python\", loglines)"
   ]
  },
  {
   "cell_type": "code",
   "execution_count": null,
   "metadata": {
    "collapsed": false
   },
   "outputs": [],
   "source": [
    "# nothing happens until now\n",
    "# Pull results out of the processing pipeline\n",
    "for line in pylines:\n",
    "    print line,"
   ]
  },
  {
   "cell_type": "code",
   "execution_count": null,
   "metadata": {
    "collapsed": true
   },
   "outputs": [],
   "source": [
    "# Ensure f is closed\n",
    "if logfile and not logfile.closed:\n",
    "    logfile.close()"
   ]
  },
  {
   "cell_type": "code",
   "execution_count": null,
   "metadata": {
    "collapsed": true
   },
   "outputs": [],
   "source": [
    "# Yield can be used as an expression too\n",
    "\n",
    "def g_grep(pattern):\n",
    "    print \"Looking for %s\" % pattern\n",
    "    while True:\n",
    "        line = (yield)\n",
    "        if pattern in line:\n",
    "            print line,"
   ]
  },
  {
   "cell_type": "markdown",
   "metadata": {},
   "source": [
    "### Coroutines\n",
    "- Using yield as this way we get a coroutine\n",
    "- function not just returns values, it can consume values that we send"
   ]
  },
  {
   "cell_type": "code",
   "execution_count": null,
   "metadata": {
    "collapsed": false
   },
   "outputs": [],
   "source": [
    "g = g_grep(\"python\")\n",
    "g.next()"
   ]
  },
  {
   "cell_type": "code",
   "execution_count": null,
   "metadata": {
    "collapsed": false
   },
   "outputs": [],
   "source": [
    "g.send(\"Prueba a ver si encontramos algo\")\n",
    "g.send(\"Hemos recibido python\")"
   ]
  },
  {
   "cell_type": "markdown",
   "metadata": {},
   "source": [
    "- Sent values are returned in (yield)\n",
    "- Execution as a generator function\n",
    "- coroutines responds to next and send"
   ]
  },
  {
   "cell_type": "code",
   "execution_count": null,
   "metadata": {
    "collapsed": true
   },
   "outputs": [],
   "source": [
    "# avoid the first next call -> decorator\n",
    "import functools\n",
    "def coroutine(func):\n",
    "    def wrapper(*args, **kwargs):\n",
    "        cr = func(*args, **kwargs)\n",
    "        cr.next()\n",
    "        return cr\n",
    "    return wrapper"
   ]
  },
  {
   "cell_type": "code",
   "execution_count": null,
   "metadata": {
    "collapsed": true
   },
   "outputs": [],
   "source": [
    "@coroutine\n",
    "def cool_grep(pattern):\n",
    "    print \"Looking for %s\" % pattern\n",
    "    while True:\n",
    "        line = (yield)\n",
    "        if pattern in line:\n",
    "            print line,"
   ]
  },
  {
   "cell_type": "code",
   "execution_count": null,
   "metadata": {
    "collapsed": false
   },
   "outputs": [],
   "source": [
    "g = cool_grep(\"python\")"
   ]
  },
  {
   "cell_type": "code",
   "execution_count": null,
   "metadata": {
    "collapsed": false
   },
   "outputs": [],
   "source": [
    "# no need of call next\n",
    "g.send(\"Prueba a ver si encontramos algo\")\n",
    "g.send(\"Prueba a ver si python es cool\")"
   ]
  },
  {
   "cell_type": "code",
   "execution_count": null,
   "metadata": {
    "collapsed": false
   },
   "outputs": [],
   "source": [
    "# use close to shutdown a coroutine (can run forever)"
   ]
  },
  {
   "cell_type": "code",
   "execution_count": null,
   "metadata": {
    "collapsed": false
   },
   "outputs": [],
   "source": [
    "@coroutine\n",
    "def last_grep(pattern):\n",
    "    print \"Looking for %s\" % pattern\n",
    "    try:\n",
    "        while True:\n",
    "            line = (yield)\n",
    "            if pattern in line:\n",
    "                print line,\n",
    "    except GeneratorExit:\n",
    "        print \"Going away. Goodbye\""
   ]
  },
  {
   "cell_type": "code",
   "execution_count": null,
   "metadata": {
    "collapsed": false
   },
   "outputs": [],
   "source": [
    "# Exceptions can be thrown inside a coroutine\n",
    "g = last_grep(\"python\")\n",
    "g.send(\"Prueba a ver si encontramos algo\")\n",
    "g.send(\"Prueba a ver si python es cool\")"
   ]
  },
  {
   "cell_type": "code",
   "execution_count": null,
   "metadata": {
    "collapsed": false
   },
   "outputs": [],
   "source": [
    "g.close()"
   ]
  },
  {
   "cell_type": "code",
   "execution_count": null,
   "metadata": {
    "collapsed": false
   },
   "outputs": [],
   "source": [
    "g.send(\"prueba a ver si python es cool\")"
   ]
  },
  {
   "cell_type": "code",
   "execution_count": null,
   "metadata": {
    "collapsed": false
   },
   "outputs": [],
   "source": [
    "# can send exceptions\n",
    "g.throw(RuntimeError, \"Lanza una excepcion\")"
   ]
  },
  {
   "cell_type": "markdown",
   "metadata": {},
   "source": [
    "- generators produces values and coroutines mostly consumes\n",
    "- DO NOT mix the concepts to avoid exploiting your mind\n",
    "- Coroutines are not for iteratin"
   ]
  },
  {
   "cell_type": "code",
   "execution_count": null,
   "metadata": {
    "collapsed": true
   },
   "outputs": [],
   "source": [
    "def countdown_bug(n):\n",
    "    print \"Counting down from\", n\n",
    "    while n >= 0:\n",
    "        newvalue = (yield n)\n",
    "        # If a new value got sent in, reset n with it\n",
    "        if newvalue is not None:\n",
    "            n = newvalue\n",
    "        else:\n",
    "            n -= 1"
   ]
  },
  {
   "cell_type": "code",
   "execution_count": null,
   "metadata": {
    "collapsed": false
   },
   "outputs": [],
   "source": [
    "c = countdown_bug(5)\n",
    "for n in c:\n",
    "    print n\n",
    "    if n == 5:\n",
    "        c.send(3)"
   ]
  },
  {
   "cell_type": "markdown",
   "metadata": {},
   "source": [
    "### What has happened here?"
   ]
  },
  {
   "cell_type": "markdown",
   "metadata": {},
   "source": [
    "- chain coroutines together and push data through the pipe using send()\n",
    "- you need a source that normally is not a coroutine\n",
    "- you will also needs a pipelines sinks (end-point) that consumes data and processes\n",
    "- don't mix the concepts too much"
   ]
  },
  {
   "cell_type": "markdown",
   "metadata": {},
   "source": [
    "### lets go back to the tail -f and grep\n",
    "### our source is tail -f"
   ]
  },
  {
   "cell_type": "code",
   "execution_count": null,
   "metadata": {
    "collapsed": true
   },
   "outputs": [],
   "source": [
    "import time\n",
    "def c_follow(thefile, target):\n",
    "    thefile.seek(0,2)  # Go to the end of the file\n",
    "    while True:\n",
    "        line = thefile.readline()\n",
    "        if not line:\n",
    "            time.sleep(0.1)    # Sleep briefly\n",
    "        else:\n",
    "            target.send(line)"
   ]
  },
  {
   "cell_type": "code",
   "execution_count": null,
   "metadata": {
    "collapsed": true
   },
   "outputs": [],
   "source": [
    "# a sink: just print\n",
    "@coroutine\n",
    "def printer(name):\n",
    "    while True:\n",
    "        line = (yield)\n",
    "        print name + \" : \" + line,"
   ]
  },
  {
   "cell_type": "code",
   "execution_count": null,
   "metadata": {
    "collapsed": false
   },
   "outputs": [],
   "source": [
    "# example\n",
    "f = open(\"fichero.txt\")\n",
    "c_follow(f, printer(\"uno\"))"
   ]
  },
  {
   "cell_type": "code",
   "execution_count": null,
   "metadata": {
    "collapsed": false
   },
   "outputs": [],
   "source": [
    "# Ensure f is closed\n",
    "if f and not f.closed:\n",
    "    f.close()"
   ]
  },
  {
   "cell_type": "code",
   "execution_count": null,
   "metadata": {
    "collapsed": true
   },
   "outputs": [],
   "source": [
    "# Pipeline filters: grep\n",
    "@coroutine\n",
    "def c_grep(pattern,target):\n",
    "    while True:\n",
    "        line = (yield)  # Receive a line\n",
    "        if pattern in line:\n",
    "            target.send(line)\n",
    "            # Send to next stage"
   ]
  },
  {
   "cell_type": "code",
   "execution_count": null,
   "metadata": {
    "collapsed": false
   },
   "outputs": [],
   "source": [
    "# Exercise: tail -f \"fichero.txt\" | grep \"python\"\n",
    "# do not forget the last print as sink"
   ]
  },
  {
   "cell_type": "code",
   "execution_count": null,
   "metadata": {
    "collapsed": false
   },
   "outputs": [],
   "source": [
    "# We have the same, with iterators we pull data with iteration\n",
    "# With coroutines we push data with send\n",
    "# BROADCAST\n",
    "@coroutine\n",
    "def broadcast(targets):\n",
    "    while True:\n",
    "        item = (yield)\n",
    "        for target in targets:\n",
    "            target.send(item)"
   ]
  },
  {
   "cell_type": "code",
   "execution_count": null,
   "metadata": {
    "collapsed": false
   },
   "outputs": [],
   "source": [
    "f = open(\"fichero.txt\")\n",
    "c_follow(f,\n",
    "         broadcast([c_grep('python', printer(\"uno\")),\n",
    "                    c_grep('hodor', printer(\"dos\")),\n",
    "                    c_grep('hold', printer(\"tres\"))])\n",
    ")"
   ]
  },
  {
   "cell_type": "markdown",
   "metadata": {},
   "source": [
    "- coroutines add routing  \n",
    "- complex arrrangment of pipes, branches, merging..."
   ]
  },
  {
   "cell_type": "code",
   "execution_count": null,
   "metadata": {
    "collapsed": false
   },
   "outputs": [],
   "source": [
    "if f and not f.closed:\n",
    "    f.close()\n",
    "f = open(\"fichero.txt\")\n",
    "p = printer(\"uno\")\n",
    "c_follow(f,\n",
    "         broadcast([c_grep('python', p),\n",
    "                    c_grep('hodor', p),\n",
    "                    c_grep('hold', p)])\n",
    ")"
   ]
  },
  {
   "cell_type": "code",
   "execution_count": null,
   "metadata": {
    "collapsed": true
   },
   "outputs": [],
   "source": [
    "if f and not f.closed:\n",
    "    f.close()"
   ]
  }
 ],
 "metadata": {
  "kernelspec": {
   "display_name": "Python 2",
   "language": "python",
   "name": "python2"
  },
  "language_info": {
   "codemirror_mode": {
    "name": "ipython",
    "version": 2
   },
   "file_extension": ".py",
   "mimetype": "text/x-python",
   "name": "python",
   "nbconvert_exporter": "python",
   "pygments_lexer": "ipython2",
   "version": "2.7.5"
  }
 },
 "nbformat": 4,
 "nbformat_minor": 0
}
