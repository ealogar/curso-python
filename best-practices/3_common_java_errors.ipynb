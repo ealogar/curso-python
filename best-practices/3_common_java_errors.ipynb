{
 "cells": [
  {
   "cell_type": "markdown",
   "metadata": {
    "collapsed": true
   },
   "source": [
    "- Getters and setters are not needed\n",
    "- There is always direct attribute access\n",
    "- Use properties or decorators if you really need to intercept attribute access"
   ]
  },
  {
   "cell_type": "markdown",
   "metadata": {},
   "source": [
    "- Abuse of @staticmethod and @classmethod\n",
    "\t- @staticmethod has no sense. Only justification is organization of code\n",
    "         You can define functions and attributes directly in modules\n",
    "    \t- @classmethod only used in constructors. Try to avoid class methods and attributes"
   ]
  },
  {
   "cell_type": "markdown",
   "metadata": {},
   "source": [
    "- Abuse of @staticmethod and @classmethod\n",
    "\t- @staticmethod has no sense. Only justification is organization of code\n",
    "         You can define functions and attributes directly in modules\n",
    "    \t- @classmethod only used in constructors. Try to avoid class methods and attributes"
   ]
  },
  {
   "cell_type": "markdown",
   "metadata": {},
   "source": [
    "- Define only one class per module\n",
    "    - You can define several \"helper\" or internal classes in the same module\n",
    "    - And even functions and attributes"
   ]
  },
  {
   "cell_type": "markdown",
   "metadata": {},
   "source": [
    "- Fear to multiple inheritance\n",
    "\t- Mixins and multiple inheritance are widely used in Python\n",
    "\t- You must understand what you are implementing, that's your work\n",
    "\t- \"we're all grown-ups here\""
   ]
  },
  {
   "cell_type": "markdown",
   "metadata": {},
   "source": [
    "- Abuse of type checking\n",
    "\t- Duck typing and EAFP (It is Easier to Ask for Forgiveness than Permission)\n",
    "\t- Get used to the \"uncertainity\" of the exact type of your arguments"
   ]
  },
  {
   "cell_type": "code",
   "execution_count": null,
   "metadata": {},
   "outputs": [],
   "source": [
    "a = []\n",
    "for i in range(10):\n",
    "    a.append(i*i)\n",
    "\n",
    "a = [i*i for i in range(10)]"
   ]
  },
  {
   "cell_type": "code",
   "execution_count": null,
   "metadata": {},
   "outputs": [],
   "source": [
    "with open(\"file.txt\", \"w\") as f:\n",
    "    f.write(\"nee\\n\")\n",
    "    f.write(\"arms\\n\")\n",
    "\n",
    "[line.replace(\"spam\",\"eggs\") for line in open(\"file.txt\") if line.startswith(\"nee\")]"
   ]
  },
  {
   "cell_type": "code",
   "execution_count": null,
   "metadata": {},
   "outputs": [],
   "source": [
    "# Functions are first class objects\n",
    "def int_validator(param):\n",
    "    if isinstance(param, int):\n",
    "        print \"Int value\"\n",
    "    else:\n",
    "        print \"Not int value\"\n",
    "\n",
    "def str_validator(param):\n",
    "    if isinstance(param, str):\n",
    "        print \"Str value\"\n",
    "    else:\n",
    "        print \"Not str value\"\n",
    "\n",
    "def validate(param, validators):\n",
    "    for validator in validators:\n",
    "        validator(param)\n",
    "        \n",
    "validate(34, [int_validator, str_validator])\n",
    "validate(\"34\", [int_validator, str_validator])"
   ]
  },
  {
   "cell_type": "code",
   "execution_count": null,
   "metadata": {},
   "outputs": [],
   "source": [
    "# properties\n",
    "class Results(object):\n",
    "    _long_time_property = None\n",
    "    @property\n",
    "    def long_time_property(self):\n",
    "        if not _long_time_property:\n",
    "            _long_time_property = long_time_operation()\n",
    "        return _long_time_property\n",
    "    \n",
    "    def long_time_operation(self):\n",
    "        time.sleep(2)\n",
    "        return 4"
   ]
  },
  {
   "cell_type": "code",
   "execution_count": null,
   "metadata": {},
   "outputs": [],
   "source": [
    "r = Results()\n",
    "r.long_time_property\n",
    "print \"First calculation\""
   ]
  },
  {
   "cell_type": "code",
   "execution_count": null,
   "metadata": {},
   "outputs": [],
   "source": [
    "r.long_time_property\n",
    "print \"second calculation\""
   ]
  },
  {
   "cell_type": "code",
   "execution_count": null,
   "metadata": {},
   "outputs": [],
   "source": [
    "#Default and keyword arguments.\n",
    "def my_func(arg1, arg2=2, arg3=3, arg4=4):\n",
    "    return arg1 ** arg2 + arg3 ** arg4\n",
    "\n",
    "print my_func(3, arg3=2) # Use keyword arguments to call skip some of the arguments with default value\n",
    "\n",
    "# Better than multiple constructors ?"
   ]
  },
  {
   "cell_type": "code",
   "execution_count": null,
   "metadata": {},
   "outputs": [],
   "source": [
    "def my_func(arg1=1, arg2=2, **kwargs):  # This arbitrary 'args' list is a (kind-off) tuple of positional arguments\n",
    "    print kwargs\n",
    "    return arg1 + arg2\n",
    "\n",
    "my_func(2, 3)\n",
    "\n",
    "my_func(2, 3, param3=5, param4=7)"
   ]
  },
  {
   "cell_type": "code",
   "execution_count": null,
   "metadata": {},
   "outputs": [],
   "source": [
    "spam = {\"param3\": 5, \"param4\": 7}\n",
    "my_func(2, 3, **spam) # It is possible to unpack a tuple or list as an arbitrary list of arguments"
   ]
  },
  {
   "cell_type": "code",
   "execution_count": null,
   "metadata": {},
   "outputs": [],
   "source": [
    "def nee():\n",
    "    return 1\n",
    "spam = nee()\n",
    "print spam"
   ]
  },
  {
   "cell_type": "code",
   "execution_count": null,
   "metadata": {},
   "outputs": [],
   "source": [
    "# refactor\n",
    "def nee():\n",
    "    return 1, \"uno\"\n",
    "spam, eggs = nee()\n",
    "print spam\n",
    "print eggs"
   ]
  },
  {
   "cell_type": "code",
   "execution_count": null,
   "metadata": {},
   "outputs": [],
   "source": [
    "# Built-in syntax for lists and dictionaries.\n",
    "# See basic module"
   ]
  }
 ],
 "metadata": {
  "kernelspec": {
   "display_name": "Python 2",
   "language": "python",
   "name": "python2"
  },
  "language_info": {
   "codemirror_mode": {
    "name": "ipython",
    "version": 2
   },
   "file_extension": ".py",
   "mimetype": "text/x-python",
   "name": "python",
   "nbconvert_exporter": "python",
   "pygments_lexer": "ipython2",
   "version": "2.7.6"
  }
 },
 "nbformat": 4,
 "nbformat_minor": 0
}
